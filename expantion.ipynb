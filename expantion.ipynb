{
 "cells": [
  {
   "cell_type": "markdown",
   "metadata": {},
   "source": [
    "# 利用扑克的排列组合,生成更多训练数据"
   ]
  },
  {
   "cell_type": "markdown",
   "metadata": {},
   "source": [
    "将原始训练数据training.csv扩展后生成train2.csv"
   ]
  },
  {
   "cell_type": "code",
   "execution_count": 1,
   "metadata": {},
   "outputs": [],
   "source": [
    "import pandas as pd\n",
    "import numpy as np\n",
    "from itertools import permutations"
   ]
  },
  {
   "cell_type": "markdown",
   "metadata": {},
   "source": [
    "10个特征代表5张扑克的任意组合，5张扑克之间是无序的，由此可以增加更多训练样本。"
   ]
  },
  {
   "cell_type": "markdown",
   "metadata": {
    "collapsed": true
   },
   "source": [
    "### 增加更多训练样本"
   ]
  },
  {
   "cell_type": "code",
   "execution_count": 3,
   "metadata": {},
   "outputs": [
    {
     "data": {
      "text/html": [
       "<div>\n",
       "<style scoped>\n",
       "    .dataframe tbody tr th:only-of-type {\n",
       "        vertical-align: middle;\n",
       "    }\n",
       "\n",
       "    .dataframe tbody tr th {\n",
       "        vertical-align: top;\n",
       "    }\n",
       "\n",
       "    .dataframe thead th {\n",
       "        text-align: right;\n",
       "    }\n",
       "</style>\n",
       "<table border=\"1\" class=\"dataframe\">\n",
       "  <thead>\n",
       "    <tr style=\"text-align: right;\">\n",
       "      <th></th>\n",
       "      <th>0</th>\n",
       "      <th>1</th>\n",
       "      <th>2</th>\n",
       "      <th>3</th>\n",
       "      <th>4</th>\n",
       "      <th>5</th>\n",
       "      <th>6</th>\n",
       "      <th>7</th>\n",
       "      <th>8</th>\n",
       "      <th>9</th>\n",
       "    </tr>\n",
       "  </thead>\n",
       "  <tbody>\n",
       "    <tr>\n",
       "      <th>0</th>\n",
       "      <td>C</td>\n",
       "      <td>5</td>\n",
       "      <td>S</td>\n",
       "      <td>7</td>\n",
       "      <td>H</td>\n",
       "      <td>9</td>\n",
       "      <td>D</td>\n",
       "      <td>3</td>\n",
       "      <td>C</td>\n",
       "      <td>K</td>\n",
       "    </tr>\n",
       "    <tr>\n",
       "      <th>1</th>\n",
       "      <td>C</td>\n",
       "      <td>9</td>\n",
       "      <td>S</td>\n",
       "      <td>7</td>\n",
       "      <td>D</td>\n",
       "      <td>K</td>\n",
       "      <td>S</td>\n",
       "      <td>10</td>\n",
       "      <td>H</td>\n",
       "      <td>J</td>\n",
       "    </tr>\n",
       "    <tr>\n",
       "      <th>2</th>\n",
       "      <td>C</td>\n",
       "      <td>7</td>\n",
       "      <td>S</td>\n",
       "      <td>J</td>\n",
       "      <td>C</td>\n",
       "      <td>10</td>\n",
       "      <td>H</td>\n",
       "      <td>7</td>\n",
       "      <td>D</td>\n",
       "      <td>1</td>\n",
       "    </tr>\n",
       "    <tr>\n",
       "      <th>3</th>\n",
       "      <td>H</td>\n",
       "      <td>3</td>\n",
       "      <td>S</td>\n",
       "      <td>Q</td>\n",
       "      <td>D</td>\n",
       "      <td>3</td>\n",
       "      <td>S</td>\n",
       "      <td>3</td>\n",
       "      <td>H</td>\n",
       "      <td>Q</td>\n",
       "    </tr>\n",
       "    <tr>\n",
       "      <th>4</th>\n",
       "      <td>D</td>\n",
       "      <td>J</td>\n",
       "      <td>C</td>\n",
       "      <td>2</td>\n",
       "      <td>C</td>\n",
       "      <td>10</td>\n",
       "      <td>C</td>\n",
       "      <td>Q</td>\n",
       "      <td>S</td>\n",
       "      <td>10</td>\n",
       "    </tr>\n",
       "  </tbody>\n",
       "</table>\n",
       "</div>"
      ],
      "text/plain": [
       "   0  1  2  3  4   5  6   7  8   9\n",
       "0  C  5  S  7  H   9  D   3  C   K\n",
       "1  C  9  S  7  D   K  S  10  H   J\n",
       "2  C  7  S  J  C  10  H   7  D   1\n",
       "3  H  3  S  Q  D   3  S   3  H   Q\n",
       "4  D  J  C  2  C  10  C   Q  S  10"
      ]
     },
     "execution_count": 3,
     "metadata": {},
     "output_type": "execute_result"
    }
   ],
   "source": [
    "raw_data = pd.read_csv('input/training.csv', header=None)\n",
    "raw_data.head()"
   ]
  },
  {
   "cell_type": "code",
   "execution_count": 10,
   "metadata": {},
   "outputs": [],
   "source": [
    "for i in range(0,10,2):\n",
    "    raw_data['poker_'+str(i//2+1)] = raw_data[i] + '_' + raw_data[i+1]\n",
    "    raw_data = raw_data.drop([i,i+1],axis=1)\n",
    "label = raw_data.iloc[:,0]\n",
    "raw_data = raw_data.drop([10], axis=1)\n",
    "raw_data['label'] = label"
   ]
  },
  {
   "cell_type": "code",
   "execution_count": null,
   "metadata": {},
   "outputs": [],
   "source": [
    "for i in range(0,10,2):\n",
    "    raw_data['poker_'+str(i//2+1)] = raw_data[i] + '_' + raw_data[i+1]\n",
    "    raw_data = raw_data.drop([i,i+1],axis=1)"
   ]
  },
  {
   "cell_type": "code",
   "execution_count": 5,
   "metadata": {},
   "outputs": [
    {
     "data": {
      "text/html": [
       "<div>\n",
       "<style scoped>\n",
       "    .dataframe tbody tr th:only-of-type {\n",
       "        vertical-align: middle;\n",
       "    }\n",
       "\n",
       "    .dataframe tbody tr th {\n",
       "        vertical-align: top;\n",
       "    }\n",
       "\n",
       "    .dataframe thead th {\n",
       "        text-align: right;\n",
       "    }\n",
       "</style>\n",
       "<table border=\"1\" class=\"dataframe\">\n",
       "  <thead>\n",
       "    <tr style=\"text-align: right;\">\n",
       "      <th></th>\n",
       "      <th>poker_1</th>\n",
       "      <th>poker_2</th>\n",
       "      <th>poker_3</th>\n",
       "      <th>poker_4</th>\n",
       "      <th>poker_5</th>\n",
       "    </tr>\n",
       "  </thead>\n",
       "  <tbody>\n",
       "    <tr>\n",
       "      <th>0</th>\n",
       "      <td>C_5</td>\n",
       "      <td>S_7</td>\n",
       "      <td>H_9</td>\n",
       "      <td>D_3</td>\n",
       "      <td>C_K</td>\n",
       "    </tr>\n",
       "    <tr>\n",
       "      <th>1</th>\n",
       "      <td>C_9</td>\n",
       "      <td>S_7</td>\n",
       "      <td>D_K</td>\n",
       "      <td>S_10</td>\n",
       "      <td>H_J</td>\n",
       "    </tr>\n",
       "    <tr>\n",
       "      <th>2</th>\n",
       "      <td>C_7</td>\n",
       "      <td>S_J</td>\n",
       "      <td>C_10</td>\n",
       "      <td>H_7</td>\n",
       "      <td>D_1</td>\n",
       "    </tr>\n",
       "    <tr>\n",
       "      <th>3</th>\n",
       "      <td>H_3</td>\n",
       "      <td>S_Q</td>\n",
       "      <td>D_3</td>\n",
       "      <td>S_3</td>\n",
       "      <td>H_Q</td>\n",
       "    </tr>\n",
       "    <tr>\n",
       "      <th>4</th>\n",
       "      <td>D_J</td>\n",
       "      <td>C_2</td>\n",
       "      <td>C_10</td>\n",
       "      <td>C_Q</td>\n",
       "      <td>S_10</td>\n",
       "    </tr>\n",
       "  </tbody>\n",
       "</table>\n",
       "</div>"
      ],
      "text/plain": [
       "  poker_1 poker_2 poker_3 poker_4 poker_5\n",
       "0     C_5     S_7     H_9     D_3     C_K\n",
       "1     C_9     S_7     D_K    S_10     H_J\n",
       "2     C_7     S_J    C_10     H_7     D_1\n",
       "3     H_3     S_Q     D_3     S_3     H_Q\n",
       "4     D_J     C_2    C_10     C_Q    S_10"
      ]
     },
     "execution_count": 5,
     "metadata": {},
     "output_type": "execute_result"
    }
   ],
   "source": [
    "raw_data.head()"
   ]
  },
  {
   "cell_type": "code",
   "execution_count": 9,
   "metadata": {},
   "outputs": [],
   "source": [
    "result = raw_data.copy()\n",
    "for index in permutations(range(0,5),5):\n",
    "    index = list(index)\n",
    "    index.append(5)\n",
    "    tmp = raw_data.iloc[:,index]\n",
    "    tmp.columns = ['poker_1','poker_2','poker_3','poker_4','poker_5','label']\n",
    "    result = pd.concat([result, tmp])\n",
    "result.drop_duplicates(inplace=True)"
   ]
  },
  {
   "cell_type": "code",
   "execution_count": null,
   "metadata": {},
   "outputs": [],
   "source": [
    "for col in ['poker_1','poker_2','poker_3','poker_4','poker_5']:\n",
    "    col_data = result[col].tolist()\n",
    "    result = result.drop([col], axis=1)\n",
    "    col_data = [item.split('_') for item in col_data]\n",
    "    col_data = np.array(col_data)\n",
    "    result[col + '_color'] = col_data[:,0]\n",
    "    result[col + '_size'] = col_data[:,1]"
   ]
  },
  {
   "cell_type": "code",
   "execution_count": null,
   "metadata": {},
   "outputs": [],
   "source": [
    "result.shape"
   ]
  },
  {
   "cell_type": "code",
   "execution_count": null,
   "metadata": {},
   "outputs": [],
   "source": [
    "result.head()"
   ]
  },
  {
   "cell_type": "code",
   "execution_count": null,
   "metadata": {},
   "outputs": [],
   "source": [
    "result.to_csv('input/preliminary-testing2.csv', index=None)"
   ]
  },
  {
   "cell_type": "code",
   "execution_count": null,
   "metadata": {},
   "outputs": [],
   "source": []
  }
 ],
 "metadata": {
  "kernelspec": {
   "display_name": "Python 3",
   "language": "python",
   "name": "python3"
  },
  "language_info": {
   "codemirror_mode": {
    "name": "ipython",
    "version": 3
   },
   "file_extension": ".py",
   "mimetype": "text/x-python",
   "name": "python",
   "nbconvert_exporter": "python",
   "pygments_lexer": "ipython3",
   "version": "3.6.5"
  }
 },
 "nbformat": 4,
 "nbformat_minor": 2
}
